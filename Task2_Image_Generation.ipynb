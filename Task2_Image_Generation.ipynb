{
  "nbformat": 4,
  "nbformat_minor": 0,
  "metadata": {
    "colab": {
      "provenance": []
    },
    "kernelspec": {
      "name": "python3",
      "display_name": "Python 3"
    },
    "language_info": {
      "name": "python"
    }
  },
  "cells": [
    {
      "cell_type": "markdown",
      "source": [
        "# **Task 2: Image Generation with Pre-Trained Models**\n",
        "\n",
        "Use pre-trained generative models like DALL-E-mini or Stable Diffusion to create images from text prompts.\n",
        "\n"
      ],
      "metadata": {
        "id": "48fJdhmZdqC5"
      }
    },
    {
      "cell_type": "markdown",
      "source": [
        "##Step 1:Install Required Libraries\n",
        "- `torch` and `torchvision` for computations and handling images.  \n",
        "- `diffusers` provides pre-trained models like Stable Diffusion.  \n",
        "- `transformers` helps work with pipelines.  \n",
        "- `--quiet` hides extra installation logs.\n",
        "\n"
      ],
      "metadata": {
        "id": "6jdagwhAdTv_"
      }
    },
    {
      "cell_type": "code",
      "execution_count": null,
      "metadata": {
        "id": "cKPxJNOhNXhJ"
      },
      "outputs": [],
      "source": [
        "!pip install torch torchvision diffusers transformers --quiet\n"
      ]
    },
    {
      "cell_type": "markdown",
      "source": [
        "##Step 2: Import Libraries and Generate Image\n",
        "- Import `diffusers` and `torch`.  \n",
        "- `StableDiffusionPipeline` converts text prompts into images.  \n",
        "- Load the model `runwayml/stable-diffusion-v1-5`.  \n",
        "- `.to(\"cpu\")` ensures CPU usage (Colab may use GPU automatically).  \n",
        "- Define a text prompt, generate the image, display it, and save it as `task2_output.png`.\n"
      ],
      "metadata": {
        "id": "DPx_aggRdbmn"
      }
    },
    {
      "cell_type": "code",
      "source": [
        "from diffusers import StableDiffusionPipeline\n",
        "import torch\n",
        "\n",
        "# Use CPU (Colab may use GPU automatically)\n",
        "pipe = StableDiffusionPipeline.from_pretrained(\"runwayml/stable-diffusion-v1-5\").to(\"cpu\")\n",
        "\n",
        "# Text prompt\n",
        "prompt = \"A futuristic city at sunset, digital art\"\n",
        "\n",
        "# Generate image\n",
        "image = pipe(prompt).images[0]\n",
        "\n",
        "# Show image\n",
        "image.show()\n",
        "\n",
        "# Save image\n",
        "image.save(\"task2_output.png\")\n",
        "print(\"Image saved as task2_output.png\")\n"
      ],
      "metadata": {
        "id": "enW5QYK4NjLZ"
      },
      "execution_count": null,
      "outputs": []
    }
  ]
}